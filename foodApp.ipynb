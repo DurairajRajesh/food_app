{
 "cells": [
  {
   "cell_type": "code",
   "execution_count": 1,
   "id": "30bcd48b-b321-45e7-808f-20a2cac5cc47",
   "metadata": {},
   "outputs": [
    {
     "ename": "ModuleNotFoundError",
     "evalue": "No module named 'dotenv'",
     "output_type": "error",
     "traceback": [
      "\u001b[1;31m---------------------------------------------------------------------------\u001b[0m",
      "\u001b[1;31mModuleNotFoundError\u001b[0m                       Traceback (most recent call last)",
      "Cell \u001b[1;32mIn[1], line 1\u001b[0m\n\u001b[1;32m----> 1\u001b[0m \u001b[38;5;28;01mfrom\u001b[39;00m \u001b[38;5;21;01mdotenv\u001b[39;00m \u001b[38;5;28;01mimport\u001b[39;00m load_dotenv\n",
      "\u001b[1;31mModuleNotFoundError\u001b[0m: No module named 'dotenv'"
     ]
    }
   ],
   "source": [
    "from dotenv import load_dotenv"
   ]
  },
  {
   "cell_type": "code",
   "execution_count": 2,
   "id": "0bf38c4b-52a4-4067-835b-bd4e5596dc5f",
   "metadata": {},
   "outputs": [
    {
     "ename": "NameError",
     "evalue": "name 'load_dotenv' is not defined",
     "output_type": "error",
     "traceback": [
      "\u001b[1;31m---------------------------------------------------------------------------\u001b[0m",
      "\u001b[1;31mNameError\u001b[0m                                 Traceback (most recent call last)",
      "Cell \u001b[1;32mIn[2], line 1\u001b[0m\n\u001b[1;32m----> 1\u001b[0m \u001b[43mload_dotenv\u001b[49m()\n",
      "\u001b[1;31mNameError\u001b[0m: name 'load_dotenv' is not defined"
     ]
    }
   ],
   "source": [
    "load_dotenv()\n",
    "\n"
   ]
  },
  {
   "cell_type": "code",
   "execution_count": 3,
   "id": "2309cddd-2cbc-47fb-b830-9c6637e9a8f4",
   "metadata": {},
   "outputs": [
    {
     "ename": "ModuleNotFoundError",
     "evalue": "No module named 'streamlit'",
     "output_type": "error",
     "traceback": [
      "\u001b[1;31m---------------------------------------------------------------------------\u001b[0m",
      "\u001b[1;31mModuleNotFoundError\u001b[0m                       Traceback (most recent call last)",
      "Cell \u001b[1;32mIn[3], line 1\u001b[0m\n\u001b[1;32m----> 1\u001b[0m \u001b[38;5;28;01mimport\u001b[39;00m \u001b[38;5;21;01mstreamlit\u001b[39;00m \u001b[38;5;28;01mas\u001b[39;00m \u001b[38;5;21;01mst\u001b[39;00m\n\u001b[0;32m      2\u001b[0m \u001b[38;5;28;01mimport\u001b[39;00m \u001b[38;5;21;01mgoogle\u001b[39;00m\u001b[38;5;21;01m.\u001b[39;00m\u001b[38;5;21;01mgenerativeai\u001b[39;00m \u001b[38;5;28;01mas\u001b[39;00m \u001b[38;5;21;01mgenai\u001b[39;00m \n\u001b[0;32m      3\u001b[0m \u001b[38;5;28;01mimport\u001b[39;00m \u001b[38;5;21;01mos\u001b[39;00m\n",
      "\u001b[1;31mModuleNotFoundError\u001b[0m: No module named 'streamlit'"
     ]
    }
   ],
   "source": [
    "import streamlit as st\n",
    "import google.generativeai as genai \n",
    "import os"
   ]
  },
  {
   "cell_type": "code",
   "execution_count": 4,
   "id": "6e927313-3372-408a-9168-9dcf71bb076e",
   "metadata": {},
   "outputs": [],
   "source": [
    "from PIL import Image"
   ]
  },
  {
   "cell_type": "code",
   "execution_count": null,
   "id": "3e957a58-e428-47c5-86c3-834d188cf77c",
   "metadata": {},
   "outputs": [],
   "source": [
    "genai.configure(api_key=os.getenv(\"GOOGLE_API_KEY\"))\n",
    "\n",
    "def get_gemini_response(input_prompt,image):\n",
    "    model=genai.GenerativeModel(\"gemini-pro-vision\")\n",
    "    response=model.generate_content([input_prompt,image[0]])\n",
    "    return response.text\n",
    "\n",
    "\n",
    "def get_image_content(uploaded_file):\n",
    "    if uploaded_file is not None:\n",
    "        image_byte_data=uploaded_file.getvalue()\n",
    "\n",
    "        image_parts = [\n",
    "            {   \n",
    "                \"mime_type\":uploaded_file.type, \n",
    "                \"data\":image_byte_data\n",
    "            }\n",
    "        ]\n",
    "        return image_parts\n",
    "    else:\n",
    "        raise FileNotFoundError(\"File not uploaded\") \n",
    "    \n",
    "\n",
    "st.set_page_config(page_title=\"FoodAnalyzer\")\n",
    "st.markdown(\"<h1 style='text-align: center;'>FoodAnalyzer App</h1>\", unsafe_allow_html=True)\n",
    "\n",
    "age = st.number_input(\"Enter Age\", min_value=0, max_value=120, step=1)\n",
    "gender = st.selectbox(\"Select Gender\", options=[\"Male\", \"Female\", \"Other\"])\n",
    "weight = st.number_input(\"Enter Weight in (kg)\", min_value=0.0, step=0.1) \n",
    "Height = st.number_input(\"Enter Height in (cm)\", min_value=0.0, step=0.1) \n",
    "\n",
    "uploaded_file=st.file_uploader(\"Upload an Image\",type=[\"jpg\",\"png\",\"jpeg\"])   \n",
    "image=''\n",
    "if uploaded_file is not None:\n",
    "    image=Image.open(uploaded_file)\n",
    "    st.image(image, caption=\"Uploaded Image\", use_column_width=True)\n",
    "\n",
    "col1, col2, col3 = st.columns([7, 2, 7])\n",
    "with col2:\n",
    "    submit = st.button(\"Analyze\")\n",
    "\n",
    "input_prompt = f\"\"\"\n",
    "You are an expert nutritionist. Please analyze the food items from the uploaded image and calculate the\n",
    "total calories. Also provide the details of every food item with calorie intake in the following format:\n",
    "\n",
    "         1. Item 1 - Number of calories\n",
    "         2. Item 2 - Number of calories  \n",
    "         3. Item 3 - Number of calories\n",
    "         4. Item 4 - Number of calories  \n",
    "......\n",
    "......\n",
    "\n",
    "Also, consider the user inputted {age}, {gender}, {weight}, {Height} and mention whether the food is healthy or not \n",
    "for the inputted {age}, {gender}, {weight},{Height}. Additionally, mention the percentage split of the ratio of proteins, carbohydrates, fats, fiber, sugar, minerals, vitamins, and\n",
    "other important nutrients required in our diet. Do not confuse and show {weight} with {Height} or {Height} with {weight}\"\"\"\n",
    "\n",
    "\n",
    "if submit:\n",
    "    image_date = get_image_content(uploaded_file)\n",
    "    response=get_gemini_response(input_prompt,image_date)\n",
    "    st.subheader(\"The Response is\")\n",
    "    st.write(response)\n",
    "\n",
    "    "
   ]
  }
 ],
 "metadata": {
  "kernelspec": {
   "display_name": "Python 3 (ipykernel)",
   "language": "python",
   "name": "python3"
  },
  "language_info": {
   "codemirror_mode": {
    "name": "ipython",
    "version": 3
   },
   "file_extension": ".py",
   "mimetype": "text/x-python",
   "name": "python",
   "nbconvert_exporter": "python",
   "pygments_lexer": "ipython3",
   "version": "3.10.15"
  }
 },
 "nbformat": 4,
 "nbformat_minor": 5
}
